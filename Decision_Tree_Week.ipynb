{
 "cells": [
  {
   "cell_type": "code",
   "execution_count": 1,
   "id": "0e60b600",
   "metadata": {},
   "outputs": [],
   "source": [
    "import time\n",
    "from datetime import datetime, timedelta\n",
    "import pandas as pd\n",
    "import matplotlib.pyplot as plt\n",
    "from plotly.subplots import make_subplots\n",
    "import plotly.graph_objects as go\n",
    "import plotly.io as pio\n",
    "import plotly.offline as pyo\n",
    "from sklearn.tree import DecisionTreeClassifier\n",
    "from sklearn.model_selection import train_test_split\n",
    "from sklearn.metrics import accuracy_score\n",
    "from sklearn import tree\n",
    "import graphviz"
   ]
  },
  {
   "cell_type": "code",
   "execution_count": 3,
   "id": "8a1f5286",
   "metadata": {},
   "outputs": [],
   "source": [
    "df = pd.read_csv('merged_df_weekly.csv')\n",
    "\n",
    "def _compute_vd_helper(volume: float, taker_buy_volume: float) -> float:\n",
    "    \n",
    "    vd = 2*taker_buy_volume - volume\n",
    "    return vd\n",
    "\n",
    "df['volume_delta_base_asset'] = df.apply(lambda x: _compute_vd_helper(x.volume,\n",
    "                                         x.taker_buy_base_asset_volume), axis=1)\n",
    "\n",
    "df['returns'] = (df.close - df.open)/df.open\n",
    "df['algo_funding'] = 100 * df['fundingRate']\n",
    "\n",
    "gain = pd.Series([1 if val > 0 else 0 for val in df.returns])"
   ]
  },
  {
   "cell_type": "code",
   "execution_count": 4,
   "id": "5c06deeb",
   "metadata": {},
   "outputs": [
    {
     "data": {
      "text/plain": [
       "'decision_tree.pdf'"
      ]
     },
     "execution_count": 4,
     "metadata": {},
     "output_type": "execute_result"
    }
   ],
   "source": [
    "# Prepare your feature matrix and target variable\n",
    "X = df[['volume', 'algo_funding', 'volume_delta_base_asset']].shift(periods=-1)\n",
    "X = X.drop(X.index[-1])\n",
    "X = X.drop(X.index[0])\n",
    "\n",
    "# Target variable\n",
    "y = gain\n",
    "y = y.drop(y.index[-1])\n",
    "y = y.drop(y.index[0])\n",
    "\n",
    "# Split the data into training and testing sets\n",
    "X_train, X_test, y_train, y_test = train_test_split(X, y, test_size=0.2, random_state=42)\n",
    "\n",
    "# Initialize the decision tree classifier\n",
    "clf = DecisionTreeClassifier(max_depth=3)\n",
    "\n",
    "# Train the decision tree classifier\n",
    "clf.fit(X_train, y_train)\n",
    "\n",
    "# Make predictions on the test set\n",
    "y_pred = clf.predict(X_test)\n",
    "\n",
    "# Visualize the tree structure\n",
    "dot_data = tree.export_graphviz(clf)\n",
    "graph = graphviz.Source(dot_data)\n",
    "graph.render('decision_tree', format='jpeg')\n",
    "graph.view()  # Display the visualization"
   ]
  },
  {
   "cell_type": "code",
   "execution_count": 5,
   "id": "a989fb66",
   "metadata": {},
   "outputs": [
    {
     "data": {
      "text/plain": [
       "'plot.html'"
      ]
     },
     "execution_count": 5,
     "metadata": {},
     "output_type": "execute_result"
    }
   ],
   "source": [
    "weak_buy = lambda row: 1 if (row.volume > 1395997.188\n",
    "                             and row.volume_delta_base_asset < -51614.904) else 0\n",
    "\n",
    "\n",
    "\n",
    "df['weak_buy'] = df.apply(weak_buy, axis=1).shift(1)\n",
    "\n",
    "# create subplots with two y-axes\n",
    "fig = make_subplots(specs=[[{\"secondary_y\": True}]])\n",
    "\n",
    "fig.add_trace(go.Candlestick(\n",
    "    x=pd.to_datetime(df['open time'], unit='ms'),\n",
    "    open=df.open,\n",
    "    high=df.high,\n",
    "    low=df.low,\n",
    "    close=df.close,\n",
    "    increasing=dict(line=dict(color='green')),\n",
    "    decreasing=dict(line=dict(color='red')),\n",
    "    name='Price')\n",
    ")\n",
    "\n",
    "fig.add_trace(go.Scatter(\n",
    "    x=pd.to_datetime(df['open time'][df.weak_buy > 0], unit='ms'),\n",
    "    y=-3000+df.low[df.weak_buy > 0],\n",
    "    name='weak buy',\n",
    "    mode='markers',\n",
    "    marker=dict(\n",
    "        symbol='triangle-up',\n",
    "        size=10,\n",
    "        color='blue',\n",
    "        line=dict(width=1, color='blue'),\n",
    "    )\n",
    "))\n",
    "\n",
    "pio.write_image(fig, 'trade_entries_chart.jpeg', format='png')\n",
    "pyo.plot(fig, filename='plot.html', auto_open=True)"
   ]
  },
  {
   "cell_type": "code",
   "execution_count": 6,
   "id": "b1f1eea4",
   "metadata": {},
   "outputs": [
    {
     "data": {
      "image/png": "[encoded data removed]",
      "text/plain": [
       "<Figure size 1296x504 with 1 Axes>"
      ]
     },
     "metadata": {
      "needs_background": "light"
     },
     "output_type": "display_data"
    }
   ],
   "source": [
    "# Create a new column for the equity curve\n",
    "df['equity_curve'] = 1.0  # Initial value of 1.0\n",
    "\n",
    "# Iterate through the DataFrame rows\n",
    "for i in range(1, len(df)):\n",
    "    # Compute equity curve based on buy signals and percentage returns\n",
    "    if df.weak_buy.iloc[i] == 1:\n",
    "        df.equity_curve.at[i] = df.equity_curve.iloc[i-1] * (1 + df.returns.iloc[i])\n",
    "    else:\n",
    "        df.equity_curve.at[i] = df.equity_curve.iloc[i-1]\n",
    "\n",
    "\n",
    "# Create a larger figure\n",
    "plt.figure(figsize=(18, 7))  # Set the width to 8 inches and height to 6 inches\n",
    "plt.grid(True)\n",
    "plt.plot(df.equity_curve, linewidth=2.5)\n",
    "plt.savefig('equity_curve.png')"
   ]
  },
  {
   "cell_type": "code",
   "execution_count": 7,
   "id": "1b91e1d5",
   "metadata": {},
   "outputs": [
    {
     "name": "stdout",
     "output_type": "stream",
     "text": [
      "Mean:            0.04%\n",
      "Standard Deviation: 3.11%\n",
      "Max Drawdown:    -46.70%\n",
      "Sharpe Ratio:    1.07\n",
      "Sortino Ratio:   1.47\n",
      "Omega Ratio:     1.10 \n"
     ]
    }
   ],
   "source": [
    "import numpy as np\n",
    "\n",
    "\n",
    "def calculate_returns(equity_curve: np.array) -> np.array:\n",
    "\n",
    "    returns = np.diff(equity_curve)/equity_curve[:-1]\n",
    "\n",
    "    return returns\n",
    "\n",
    "\n",
    "def calculate_max_drawdown(equity_curve: np.array) -> np.array:\n",
    "    \n",
    "    m_max = 0.\n",
    "    maxDD = 0.\n",
    "\n",
    "    for i in range(equity_curve.shape[0]):\n",
    "        m_max = max(m_max, equity_curve[i])\n",
    "        maxDD = min(maxDD, equity_curve[i]/m_max - 1)\n",
    "\n",
    "    return round(maxDD, 3)\n",
    "\n",
    "\n",
    "def calculate_sharpe(returns: np.array) -> np.array:\n",
    "    \n",
    "    gap = 1./24\n",
    "    mean = returns.mean()\n",
    "    std = returns.std()\n",
    "\n",
    "    sharpe = round(mean / std * np.sqrt(365/gap), 2) if std != 0 else 0\n",
    "\n",
    "    return sharpe\n",
    "\n",
    "\n",
    "def calculate_sortino(returns: np.array) -> np.array:\n",
    "    \n",
    "    gap = 1./24\n",
    "    mean = returns.mean()\n",
    "    downside = (np.square(returns[returns < 0])).sum()\n",
    "    downside_dev = np.sqrt(downside/returns.size)\n",
    "\n",
    "    sortino = round(mean / downside_dev * np.sqrt(365/gap), 2)\\\n",
    "        if downside_dev != 0 else 0\n",
    "\n",
    "    return sortino\n",
    "\n",
    "\n",
    "def calculate_omega(returns: np.array) -> np.array:\n",
    "\n",
    "    positive_area = returns[returns > 0].sum()\n",
    "    negative_area = -returns[returns < 0].sum()\n",
    "\n",
    "    omega = round(positive_area / negative_area, 2)\\\n",
    "        if negative_area != 0 else 0\n",
    "\n",
    "    return omega\n",
    "\n",
    "\n",
    "def get_stats(equity_curve: np.array) -> dict:\n",
    "    \"\"\"Calculate important stats of a strategy and return them in a dict.\n",
    "\n",
    "    Parameters\n",
    "    ----------\n",
    "    equity_curve : np.array\n",
    "        The equity curve of the strategy.\n",
    "\n",
    "    Returns\n",
    "    -------\n",
    "    dict\n",
    "        Dictionary containing the stats of the strategy.\n",
    "    \"\"\"\n",
    "\n",
    "    returns = calculate_returns(equity_curve)\n",
    "    mean = returns.mean()\n",
    "    std = returns.std()\n",
    "    max_dd = calculate_max_drawdown(equity_curve)\n",
    "    sharpe = calculate_sharpe(returns)\n",
    "    sortino = calculate_sortino(returns)\n",
    "    omega = calculate_omega(returns)\n",
    "\n",
    "    return {'returns': returns, 'mean': mean, 'std': std,\n",
    "            'max_dd': max_dd, 'sharpe': sharpe,\n",
    "            'sortino': sortino, 'omega': omega}\n",
    "\n",
    "\n",
    "def print_stats(equity_curve: np.array) -> None:\n",
    "    \"\"\"Calculate and print important stats of the strategy.\n",
    "\n",
    "    Parameters\n",
    "    ----------\n",
    "    equity_curve : np.array\n",
    "        The equity curve of the strategy.\n",
    "    \"\"\"\n",
    "\n",
    "    stats = get_stats(equity_curve)\n",
    "\n",
    "    print('Mean:            {:.2%}'.format(stats['mean']))\n",
    "    print('Standard Deviation: {:.2%}'.format(stats['std']))\n",
    "    print('Max Drawdown:    {:.2%}'.format(stats['max_dd']))\n",
    "    print('Sharpe Ratio:    {:.2f}'.format(stats['sharpe']))\n",
    "    print('Sortino Ratio:   {:.2f}'.format(stats['sortino']))\n",
    "    print('Omega Ratio:     {:.2f} '.format(stats['omega']))\n",
    "\n",
    "print_stats(df.equity_curve)"
   ]
  },
  {
   "cell_type": "code",
   "execution_count": null,
   "id": "2fa376fc",
   "metadata": {},
   "outputs": [],
   "source": []
  }
 ],
 "metadata": {
  "kernelspec": {
   "display_name": "Python 3 (ipykernel)",
   "language": "python",
   "name": "python3"
  },
  "language_info": {
   "codemirror_mode": {
    "name": "ipython",
    "version": 3
   },
   "file_extension": ".py",
   "mimetype": "text/x-python",
   "name": "python",
   "nbconvert_exporter": "python",
   "pygments_lexer": "ipython3",
   "version": "3.8.10"
  }
 },
 "nbformat": 4,
 "nbformat_minor": 5
}
