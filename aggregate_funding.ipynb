{
 "cells": [
  {
   "cell_type": "code",
   "execution_count": 1,
   "id": "2cc6d896",
   "metadata": {},
   "outputs": [],
   "source": [
    "import configparser\n",
    "import os\n",
    "import logging\n",
    "import time\n",
    "\n",
    "import hmac\n",
    "import hashlib\n",
    "import requests\n",
    "import numpy as np\n",
    "import pandas as pd\n",
    "import matplotlib.pyplot as plt\n",
    "from datetime import datetime, timedelta\n",
    "from requests import Response\n",
    "from urllib.parse import urlencode\n",
    "from typing import Optional, Dict, Any"
   ]
  },
  {
   "cell_type": "code",
   "execution_count": 2,
   "id": "07aa6585",
   "metadata": {},
   "outputs": [],
   "source": [
    "class RESTClient:\n",
    "    \"\"\"Provide a Client for REST APIs.\"\"\"\n",
    "    \n",
    "    def __init__(self, endpoint: str, path: str):\n",
    "        self._endpoint = endpoint\n",
    "        self._path = path\n",
    "\n",
    "        \n",
    "    def get_data(self, params: Optional[Dict[str, Any]] = None) -> Any:\n",
    "        \"\"\"Executes an HTTPS GET request.\"\"\"\n",
    "        \n",
    "        try:\n",
    "            response = requests.get(self._endpoint + self._path, params)\n",
    "        except requests.exceptions.Timeout:\n",
    "            logging.warning(\"Request has timed out\")\n",
    "        except requests.exceptions.ConnectionError:\n",
    "            logging.warning(\"Request has faced a connection error\")\n",
    "            \n",
    "        return self._process_response(response)\n",
    "\n",
    "        \n",
    "    def _process_response(self, response: Response) -> Any:\n",
    "        \"\"\"Processes the response the server sends to the clients request.\"\"\"\n",
    "        \n",
    "        try:\n",
    "            data = response.json()\n",
    "        except ValueError:\n",
    "            response.raise_for_status()\n",
    "            raise\n",
    "        else:\n",
    "            return data"
   ]
  },
  {
   "cell_type": "code",
   "execution_count": 3,
   "id": "336e6727",
   "metadata": {},
   "outputs": [],
   "source": [
    "class BinanceFuturesClient(RESTClient):\n",
    "    \"\"\"Hold key information for Binance Spot Exchange.\"\"\"\n",
    "\n",
    "    def __init__(self):\n",
    "        super().__init__('https://fapi.binance.com/', 'fapi/v1/klines')\n",
    "    \n",
    "    \n",
    "class ByBitFuturesClient(RESTClient):\n",
    "    \"\"\"Hold key information for ByBit Futures Exchanges.\"\"\"\n",
    "    \n",
    "    def __init__(self):\n",
    "        super().__init__('https://api.bybit.com/', 'derivatives/v3/public/funding/history-funding-rate')"
   ]
  },
  {
   "cell_type": "code",
   "execution_count": 9,
   "id": "0b806a06",
   "metadata": {},
   "outputs": [],
   "source": [
    "def fetch_historical_data(ec: RESTClient, params: dict) -> pd.DataFrame:\n",
    "\n",
    "    funding = None\n",
    "    response = ec.get_data(params)\n",
    "    funding = pd.DataFrame(response['result']['list'], columns = \\\n",
    "                           ['fundingRateTimestamp', 'fundingRate'])\n",
    "    funding['fundingRate'] = funding['fundingRate'].astype(float)\n",
    "\n",
    "    return funding"
   ]
  },
  {
   "cell_type": "code",
   "execution_count": 12,
   "id": "93efef7f",
   "metadata": {},
   "outputs": [
    {
     "name": "stdout",
     "output_type": "stream",
     "text": [
      "     fundingRateTimestamp  fundingRate\n",
      "0           1684454400000     0.000071\n",
      "1           1684425600000     0.000100\n",
      "2           1684396800000    -0.000010\n",
      "3           1684368000000     0.000058\n",
      "4           1684339200000     0.000077\n",
      "...                   ...          ...\n",
      "1595        1678838400000     0.000100\n",
      "1596        1678809600000     0.000100\n",
      "1597        1678780800000     0.000100\n",
      "1598        1678752000000     0.000122\n",
      "1599        1678723200000     0.000100\n",
      "\n",
      "[1600 rows x 2 columns]\n"
     ]
    }
   ],
   "source": [
    "ec = ByBitFuturesClient()\n",
    "\n",
    "market_name = 'BTCUSDT'\n",
    "delta = timedelta(hours=800)\n",
    "start_time = datetime(2022, 9, 8, 20, 0, 0, 0)\n",
    "end_time = start_time + delta\n",
    "\n",
    "funding_bybit = pd.DataFrame()\n",
    "\n",
    "while start_time < datetime.now():\n",
    "    \n",
    "    params = {\n",
    "        'symbol': market_name,\n",
    "        'start': int((start_time-timedelta(hours=4)).timestamp()*1000),\n",
    "        'end': int(end_time.timestamp()*1000)\n",
    "    }\n",
    "\n",
    "    tmp_funding = fetch_historical_data(ec, params)\n",
    "\n",
    "    funding_bybit = pd.concat([funding_bybit, tmp_funding], ignore_index=True)\n",
    "\n",
    "    start_time = end_time\n",
    "    end_time = end_time + delta\n",
    "\n",
    "print(funding_bybit)"
   ]
  },
  {
   "cell_type": "code",
   "execution_count": null,
   "id": "b46b3168",
   "metadata": {},
   "outputs": [],
   "source": []
  }
 ],
 "metadata": {
  "kernelspec": {
   "display_name": "Python 3 (ipykernel)",
   "language": "python",
   "name": "python3"
  },
  "language_info": {
   "codemirror_mode": {
    "name": "ipython",
    "version": 3
   },
   "file_extension": ".py",
   "mimetype": "text/x-python",
   "name": "python",
   "nbconvert_exporter": "python",
   "pygments_lexer": "ipython3",
   "version": "3.8.10"
  }
 },
 "nbformat": 4,
 "nbformat_minor": 5
}
