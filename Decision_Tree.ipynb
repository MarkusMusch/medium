{
 "cells": [
  {
   "cell_type": "code",
<<<<<<< HEAD
<<<<<<< HEAD
   "execution_count": 1,
=======
   "execution_count": 18,
>>>>>>> 5b821adea97dbfe003fec1adb983ce259ac3dd25
=======
   "execution_count": 10,
>>>>>>> 4b1a6b9c7ec3ff1532e4b59d49ddd10514313ca9
   "id": "0e60b600",
   "metadata": {},
   "outputs": [],
   "source": [
    "import time\n",
    "from datetime import datetime, timedelta\n",
    "import pandas as pd\n",
    "import matplotlib.pyplot as plt\n",
    "from plotly.subplots import make_subplots\n",
    "import plotly.graph_objects as go\n",
    "import plotly.io as pio\n",
    "import plotly.offline as pyo\n",
    "from sklearn.tree import DecisionTreeClassifier\n",
    "from sklearn.model_selection import train_test_split\n",
    "from sklearn.metrics import accuracy_score\n",
    "from sklearn import tree\n",
    "import graphviz"
   ]
  },
  {
   "cell_type": "code",
<<<<<<< HEAD
<<<<<<< HEAD
   "execution_count": 2,
=======
   "execution_count": 19,
>>>>>>> 5b821adea97dbfe003fec1adb983ce259ac3dd25
=======
   "execution_count": 38,
>>>>>>> 4b1a6b9c7ec3ff1532e4b59d49ddd10514313ca9
   "id": "8a1f5286",
   "metadata": {},
   "outputs": [],
   "source": [
    "df = pd.read_csv('merged_df.csv')\n",
    "\n",
    "def _compute_vd_helper(volume: float, taker_buy_volume: float) -> float:\n",
    "    \n",
    "    vd = 2*taker_buy_volume - volume\n",
    "    return vd\n",
    "\n",
    "df['volume_delta_base_asset'] = df.apply(lambda x: _compute_vd_helper(x.volume,\n",
    "                                         x.taker_buy_base_asset_volume), axis=1)\n",
    "\n",
    "df['returns'] = (df.close - df.open)/df.open\n",
    "df['algo_funding'] = 100 * df['fundingRate']\n",
    "\n",
    "gain = pd.Series([1 if val > 0 else 0 for val in df.returns])"
   ]
  },
  {
   "cell_type": "code",
<<<<<<< HEAD
<<<<<<< HEAD
   "execution_count": 3,
=======
   "execution_count": 30,
>>>>>>> 5b821adea97dbfe003fec1adb983ce259ac3dd25
=======
   "execution_count": 96,
>>>>>>> 4b1a6b9c7ec3ff1532e4b59d49ddd10514313ca9
   "id": "5c06deeb",
   "metadata": {},
   "outputs": [
    {
<<<<<<< HEAD
     "name": "stderr",
     "output_type": "stream",
     "text": [
<<<<<<< HEAD
      "/tmp/ipykernel_33694/983060716.py:32: FutureWarning:\n",
      "\n",
      "The behavior of `series[i:j]` with an integer-dtype index is deprecated. In a future version, this will be treated as *label-based* indexing, consistent with e.g. `series[i]` lookups. To retain the old behavior, use `series.iloc[i:j]`. To get the future behavior, use `series.loc[i:j]`.\n",
      "\n",
      "/tmp/ipykernel_33694/983060716.py:33: FutureWarning:\n",
=======
      "/tmp/ipykernel_163317/1795323297.py:32: FutureWarning:\n",
      "\n",
      "The behavior of `series[i:j]` with an integer-dtype index is deprecated. In a future version, this will be treated as *label-based* indexing, consistent with e.g. `series[i]` lookups. To retain the old behavior, use `series.iloc[i:j]`. To get the future behavior, use `series.loc[i:j]`.\n",
      "\n",
      "/tmp/ipykernel_163317/1795323297.py:33: FutureWarning:\n",
>>>>>>> 5b821adea97dbfe003fec1adb983ce259ac3dd25
      "\n",
      "The behavior of `series[i:j]` with an integer-dtype index is deprecated. In a future version, this will be treated as *label-based* indexing, consistent with e.g. `series[i]` lookups. To retain the old behavior, use `series.iloc[i:j]`. To get the future behavior, use `series.loc[i:j]`.\n",
      "\n"
     ]
    },
    {
=======
>>>>>>> 4b1a6b9c7ec3ff1532e4b59d49ddd10514313ca9
     "data": {
      "text/plain": [
       "'decision_tree.pdf'"
      ]
     },
<<<<<<< HEAD
<<<<<<< HEAD
     "execution_count": 3,
=======
     "execution_count": 30,
>>>>>>> 5b821adea97dbfe003fec1adb983ce259ac3dd25
=======
     "execution_count": 96,
>>>>>>> 4b1a6b9c7ec3ff1532e4b59d49ddd10514313ca9
     "metadata": {},
     "output_type": "execute_result"
    }
   ],
   "source": [
<<<<<<< HEAD
<<<<<<< HEAD
    "# Set the percentage of training data\n",
    "train_data_percentage = 0.5\n",
    "\n",
=======
    "df = pd.read_csv('merged_df.csv')\n",
    "\n",
    "# Set the percentage of training data\n",
    "train_data_percentage = 0.5\n",
=======
    "df = pd.read_csv('merged_df.csv')\n",
    "\n",
    "def _compute_vd_helper(volume: float, taker_buy_volume: float) -> float:\n",
    "    \n",
    "    vd = 2*taker_buy_volume - volume\n",
    "    return vd\n",
>>>>>>> 4b1a6b9c7ec3ff1532e4b59d49ddd10514313ca9
    "\n",
    "df['volume_delta_base_asset'] = df.apply(lambda x: _compute_vd_helper(x.volume,\n",
    "                                         x.taker_buy_base_asset_volume), axis=1)\n",
    "\n",
    "df['returns'] = (df.close - df.open)/df.open\n",
    "df['algo_funding'] = 100 * df['fundingRate']\n",
    "\n",
    "gain = pd.Series([1 if val > 0 else 0 for val in df.returns])\n",
    "\n",
<<<<<<< HEAD
>>>>>>> 5b821adea97dbfe003fec1adb983ce259ac3dd25
    "# Prepare your feature matrix and target variable\n",
    "X = df[['volume', 'algo_funding', 'volume_delta_base_asset']].shift(periods=-1)\n",
=======
    "# Prepare your feature matrix and target variable\n",
    "X = df[['open time', 'returns', 'open', 'high', 'low', 'close', 'volume', 'algo_funding', 'volume_delta_base_asset']].shift(periods=-1)\n",
>>>>>>> 4b1a6b9c7ec3ff1532e4b59d49ddd10514313ca9
    "X = X.drop(X.index[-1])\n",
    "X = X.drop(X.index[0])\n",
    "\n",
    "# Target variable\n",
    "y = gain\n",
    "y = y.drop(y.index[-1])\n",
    "y = y.drop(y.index[0])\n",
    "\n",
    "# Split the data into training and testing sets\n",
<<<<<<< HEAD
    "\n",
    "# Calculate the number of samples for training based on the percentage\n",
    "num_train_samples = int(train_data_percentage * len(X))\n",
    "\n",
    "# Split the data into training and testing sets\n",
    "X_train = X[:num_train_samples]\n",
    "X_test = X[num_train_samples:]\n",
    "y_train = y[:num_train_samples]\n",
    "y_test = y[num_train_samples:]\n",
=======
    "X_train, X_test, y_train, y_test = train_test_split(X, y, test_size=0.2, random_state=42)\n",
>>>>>>> 4b1a6b9c7ec3ff1532e4b59d49ddd10514313ca9
    "\n",
    "# Initialize the decision tree classifier\n",
    "clf = DecisionTreeClassifier(max_depth=3)\n",
    "\n",
    "# Train the decision tree classifier\n",
<<<<<<< HEAD
    "clf.fit(X_train, y_train)\n",
    "\n",
    "# Make predictions on the test set\n",
    "y_pred = clf.predict(X_test)\n",
=======
    "clf.fit(X_train.drop(['open time', 'returns', 'open', 'high', 'low', 'close'], axis=1), y_train)\n",
    "\n",
    "# Make predictions on the test set\n",
    "y_pred = clf.predict(X_test.drop(['open time', 'returns', 'open', 'high', 'low', 'close'], axis=1))\n",
>>>>>>> 4b1a6b9c7ec3ff1532e4b59d49ddd10514313ca9
    "\n",
    "# Visualize the tree structure\n",
    "dot_data = tree.export_graphviz(clf)\n",
    "graph = graphviz.Source(dot_data)\n",
    "graph.render('decision_tree', format='jpeg')\n",
    "graph.view()  # Display the visualization"
   ]
  },
  {
   "cell_type": "code",
<<<<<<< HEAD
<<<<<<< HEAD
   "execution_count": 5,
=======
   "execution_count": 31,
>>>>>>> 5b821adea97dbfe003fec1adb983ce259ac3dd25
=======
   "execution_count": 86,
>>>>>>> 4b1a6b9c7ec3ff1532e4b59d49ddd10514313ca9
   "id": "a989fb66",
   "metadata": {},
   "outputs": [
    {
     "data": {
      "text/plain": [
       "'plot.html'"
      ]
     },
<<<<<<< HEAD
<<<<<<< HEAD
     "execution_count": 5,
=======
     "execution_count": 31,
>>>>>>> 5b821adea97dbfe003fec1adb983ce259ac3dd25
=======
     "execution_count": 86,
>>>>>>> 4b1a6b9c7ec3ff1532e4b59d49ddd10514313ca9
     "metadata": {},
     "output_type": "execute_result"
    }
   ],
   "source": [
<<<<<<< HEAD
    "df = df[-len(X_test):]\n",
    "df = df.reset_index(drop=True)\n",
    "\n",
    "weak_buy = lambda row: 1 if (row.algo_funding < -0.003\n",
    "                             and row.volume_delta_base_asset > -4950.871) else 0\n",
    "\n",
    "\n",
    "\n",
    "df['weak_buy'] = df.apply(weak_buy, axis=1).shift(1)\n",
=======
    "X_test.sort_values('open time', inplace=True)\n",
    "X_test = X_test.reset_index(drop=True)\n",
    "\n",
    "weak_buy = lambda row: 1 if (row.algo_funding < 0.117\n",
    "                             and row.volume_delta_base_asset > -12749.995) else 0\n",
    "\n",
    "\n",
    "X_test['weak_buy'] = df.apply(weak_buy, axis=1).shift(1)\n",
>>>>>>> 4b1a6b9c7ec3ff1532e4b59d49ddd10514313ca9
    "\n",
    "# create subplots with two y-axes\n",
    "fig = make_subplots(specs=[[{\"secondary_y\": True}]])\n",
    "\n",
    "fig.add_trace(go.Candlestick(\n",
<<<<<<< HEAD
    "    x=pd.to_datetime(df['open time'], unit='ms'),\n",
    "    open=df.open,\n",
    "    high=df.high,\n",
    "    low=df.low,\n",
    "    close=df.close,\n",
=======
    "    x=df.index,\n",
    "    open=X_test.open,\n",
    "    high=X_test.high,\n",
    "    low=X_test.low,\n",
    "    close=X_test.close,\n",
>>>>>>> 4b1a6b9c7ec3ff1532e4b59d49ddd10514313ca9
    "    increasing=dict(line=dict(color='green')),\n",
    "    decreasing=dict(line=dict(color='red')),\n",
    "    name='Price')\n",
    ")\n",
    "\n",
    "fig.add_trace(go.Scatter(\n",
<<<<<<< HEAD
    "    x=pd.to_datetime(df['open time'][df.weak_buy > 0], unit='ms'),\n",
    "    y=-3000+df.low[df.weak_buy > 0],\n",
=======
    "    x=X_test.index[X_test.weak_buy > 0],\n",
    "    y=-3000+X_test.low[X_test.weak_buy > 0],\n",
>>>>>>> 4b1a6b9c7ec3ff1532e4b59d49ddd10514313ca9
    "    name='weak buy',\n",
    "    mode='markers',\n",
    "    marker=dict(\n",
    "        symbol='triangle-up',\n",
    "        size=10,\n",
    "        color='blue',\n",
    "        line=dict(width=1, color='blue'),\n",
    "    )\n",
    "))\n",
    "\n",
    "pio.write_image(fig, 'trade_entries_chart.jpeg', format='png')\n",
    "pyo.plot(fig, filename='plot.html', auto_open=True)"
   ]
  },
  {
   "cell_type": "code",
<<<<<<< HEAD
<<<<<<< HEAD
   "execution_count": 6,
=======
   "execution_count": 29,
>>>>>>> 5b821adea97dbfe003fec1adb983ce259ac3dd25
=======
   "execution_count": 88,
>>>>>>> 4b1a6b9c7ec3ff1532e4b59d49ddd10514313ca9
   "id": "b1f1eea4",
   "metadata": {},
   "outputs": [
    {
<<<<<<< HEAD
     "name": "stderr",
     "output_type": "stream",
     "text": [
      "/usr/lib/python3/dist-packages/matplotlib/cbook/__init__.py:1402: FutureWarning:\n",
      "\n",
      "Support for multi-dimensional indexing (e.g. `obj[:, None]`) is deprecated and will be removed in a future version.  Convert to a numpy array before indexing instead.\n",
      "\n",
      "/usr/lib/python3/dist-packages/matplotlib/axes/_base.py:276: FutureWarning:\n",
      "\n",
      "Support for multi-dimensional indexing (e.g. `obj[:, None]`) is deprecated and will be removed in a future version.  Convert to a numpy array before indexing instead.\n",
      "\n",
      "/usr/lib/python3/dist-packages/matplotlib/axes/_base.py:278: FutureWarning:\n",
      "\n",
      "Support for multi-dimensional indexing (e.g. `obj[:, None]`) is deprecated and will be removed in a future version.  Convert to a numpy array before indexing instead.\n",
      "\n"
     ]
    },
    {
     "data": {
      "image/png": "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\n",
=======
     "data": {
      "image/png": "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\n",
>>>>>>> 4b1a6b9c7ec3ff1532e4b59d49ddd10514313ca9
      "text/plain": [
       "<Figure size 1296x504 with 1 Axes>"
      ]
     },
     "metadata": {
      "needs_background": "light"
     },
     "output_type": "display_data"
    }
   ],
   "source": [
    "# Create a new column for the equity curve\n",
<<<<<<< HEAD
    "df['equity_curve'] = 1.0  # Initial value of 1.0\n",
    "\n",
    "# Iterate through the DataFrame rows\n",
    "for i in range(1, len(df)):\n",
    "    # Compute equity curve based on buy signals and percentage returns\n",
    "    if df.weak_buy.iloc[i] == 1:\n",
    "        df.equity_curve.at[i] = df.equity_curve.iloc[i-1] * (1 + df.returns.iloc[i])\n",
    "    else:\n",
    "        df.equity_curve.at[i] = df.equity_curve.iloc[i-1]\n",
=======
    "X_test['equity_curve'] = 1.0  # Initial value of 1.0\n",
    "\n",
    "# Iterate through the DataFrame rows\n",
    "for i in range(1, len(X_test)):\n",
    "    # Compute equity curve based on buy signals and percentage returns\n",
    "    if X_test.weak_buy.iloc[i] == 1:\n",
    "        X_test.equity_curve.at[i] = X_test.equity_curve.iloc[i-1] * (1 + X_test.returns.iloc[i])\n",
    "    else:\n",
    "        X_test.equity_curve.at[i] = X_test.equity_curve.iloc[i-1]\n",
    "\n",
>>>>>>> 4b1a6b9c7ec3ff1532e4b59d49ddd10514313ca9
    "\n",
    "# Create a larger figure\n",
    "plt.figure(figsize=(18, 7))  # Set the width to 8 inches and height to 6 inches\n",
    "plt.grid(True)\n",
<<<<<<< HEAD
    "plt.plot(pd.to_datetime(df['open time'], unit='ms'), df.equity_curve, linewidth=2.5)\n",
=======
    "plt.plot(X_test.equity_curve, linewidth=2.5)\n",
>>>>>>> 4b1a6b9c7ec3ff1532e4b59d49ddd10514313ca9
    "plt.savefig('equity_curve.png')"
   ]
  },
  {
   "cell_type": "code",
<<<<<<< HEAD
<<<<<<< HEAD
   "execution_count": 8,
=======
   "execution_count": 23,
>>>>>>> 5b821adea97dbfe003fec1adb983ce259ac3dd25
   "id": "1b91e1d5",
   "metadata": {
    "scrolled": true
   },
=======
   "execution_count": 80,
   "id": "1b91e1d5",
   "metadata": {},
>>>>>>> 4b1a6b9c7ec3ff1532e4b59d49ddd10514313ca9
   "outputs": [
    {
     "name": "stdout",
     "output_type": "stream",
     "text": [
<<<<<<< HEAD
      "Mean:            0.04%\n",
      "Standard Deviation: 0.89%\n",
      "Max Drawdown:    -22.80%\n",
      "Sharpe Ratio:    3.83\n",
      "Sortino Ratio:   6.55\n",
      "Omega Ratio:     1.54 \n"
=======
      "Mean:            -0.02%\n",
      "Standard Deviation: 1.41%\n",
      "Max Drawdown:    -25.80%\n",
      "Sharpe Ratio:    -1.02\n",
      "Sortino Ratio:   -1.48\n",
      "Omega Ratio:     0.94 \n"
>>>>>>> 4b1a6b9c7ec3ff1532e4b59d49ddd10514313ca9
     ]
    }
   ],
   "source": [
    "import numpy as np\n",
    "\n",
    "\n",
    "def calculate_returns(equity_curve: np.array) -> np.array:\n",
    "\n",
    "    returns = np.diff(equity_curve)/equity_curve[:-1]\n",
    "\n",
    "    return returns\n",
    "\n",
    "\n",
    "def calculate_max_drawdown(equity_curve: np.array) -> np.array:\n",
    "    \n",
    "    m_max = 0.\n",
    "    maxDD = 0.\n",
    "\n",
    "    for i in range(equity_curve.shape[0]):\n",
    "        m_max = max(m_max, equity_curve[i])\n",
    "        maxDD = min(maxDD, equity_curve[i]/m_max - 1)\n",
    "\n",
    "    return round(maxDD, 3)\n",
    "\n",
    "\n",
    "def calculate_sharpe(returns: np.array) -> np.array:\n",
    "    \n",
    "    gap = 1./24\n",
    "    mean = returns.mean()\n",
    "    std = returns.std()\n",
    "\n",
    "    sharpe = round(mean / std * np.sqrt(365/gap), 2) if std != 0 else 0\n",
    "\n",
    "    return sharpe\n",
    "\n",
    "\n",
    "def calculate_sortino(returns: np.array) -> np.array:\n",
    "    \n",
    "    gap = 1./24\n",
    "    mean = returns.mean()\n",
    "    downside = (np.square(returns[returns < 0])).sum()\n",
    "    downside_dev = np.sqrt(downside/returns.size)\n",
    "\n",
    "    sortino = round(mean / downside_dev * np.sqrt(365/gap), 2)\\\n",
    "        if downside_dev != 0 else 0\n",
    "\n",
    "    return sortino\n",
    "\n",
    "\n",
    "def calculate_omega(returns: np.array) -> np.array:\n",
    "\n",
    "    positive_area = returns[returns > 0].sum()\n",
    "    negative_area = -returns[returns < 0].sum()\n",
    "\n",
    "    omega = round(positive_area / negative_area, 2)\\\n",
    "        if negative_area != 0 else 0\n",
    "\n",
    "    return omega\n",
    "\n",
    "\n",
    "def get_stats(equity_curve: np.array) -> dict:\n",
    "    \"\"\"Calculate important stats of a strategy and return them in a dict.\n",
    "\n",
    "    Parameters\n",
    "    ----------\n",
    "    equity_curve : np.array\n",
    "        The equity curve of the strategy.\n",
    "\n",
    "    Returns\n",
    "    -------\n",
    "    dict\n",
    "        Dictionary containing the stats of the strategy.\n",
    "    \"\"\"\n",
    "\n",
    "    returns = calculate_returns(equity_curve)\n",
    "    mean = returns.mean()\n",
    "    std = returns.std()\n",
    "    max_dd = calculate_max_drawdown(equity_curve)\n",
    "    sharpe = calculate_sharpe(returns)\n",
    "    sortino = calculate_sortino(returns)\n",
    "    omega = calculate_omega(returns)\n",
    "\n",
    "    return {'returns': returns, 'mean': mean, 'std': std,\n",
    "            'max_dd': max_dd, 'sharpe': sharpe,\n",
    "            'sortino': sortino, 'omega': omega}\n",
    "\n",
    "\n",
    "def print_stats(equity_curve: np.array) -> None:\n",
    "    \"\"\"Calculate and print important stats of the strategy.\n",
    "\n",
    "    Parameters\n",
    "    ----------\n",
    "    equity_curve : np.array\n",
    "        The equity curve of the strategy.\n",
    "    \"\"\"\n",
    "\n",
    "    stats = get_stats(equity_curve)\n",
    "\n",
    "    print('Mean:            {:.2%}'.format(stats['mean']))\n",
    "    print('Standard Deviation: {:.2%}'.format(stats['std']))\n",
    "    print('Max Drawdown:    {:.2%}'.format(stats['max_dd']))\n",
    "    print('Sharpe Ratio:    {:.2f}'.format(stats['sharpe']))\n",
    "    print('Sortino Ratio:   {:.2f}'.format(stats['sortino']))\n",
    "    print('Omega Ratio:     {:.2f} '.format(stats['omega']))\n",
    "\n",
<<<<<<< HEAD
    "print_stats(df.equity_curve)"
=======
    "print_stats(X_test.equity_curve)"
>>>>>>> 4b1a6b9c7ec3ff1532e4b59d49ddd10514313ca9
   ]
  },
  {
   "cell_type": "code",
   "execution_count": null,
   "id": "2fa376fc",
   "metadata": {},
   "outputs": [],
   "source": []
  }
 ],
 "metadata": {
  "kernelspec": {
   "display_name": "Python 3 (ipykernel)",
   "language": "python",
   "name": "python3"
  },
  "language_info": {
   "codemirror_mode": {
    "name": "ipython",
    "version": 3
   },
   "file_extension": ".py",
   "mimetype": "text/x-python",
   "name": "python",
   "nbconvert_exporter": "python",
   "pygments_lexer": "ipython3",
   "version": "3.8.10"
  }
 },
 "nbformat": 4,
 "nbformat_minor": 5
}
